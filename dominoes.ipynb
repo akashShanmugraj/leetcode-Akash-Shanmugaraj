{
 "cells": [
  {
   "cell_type": "code",
   "execution_count": 1,
   "metadata": {},
   "outputs": [
    {
     "name": "stdout",
     "output_type": "stream",
     "text": [
      "0 L\n",
      "1 R\n",
      "2  \n",
      "3  \n",
      "\n",
      "\n",
      "\n",
      "The element { L } was passed here\n",
      "The element { R } was passed here\n",
      "LRR\n"
     ]
    },
    {
     "data": {
      "text/plain": [
       "'LRR'"
      ]
     },
     "execution_count": 1,
     "metadata": {},
     "output_type": "execute_result"
    }
   ],
   "source": [
    "\n",
    "class Solution:\n",
    "    def compareposition(self, cursor,source):\n",
    "        try:\n",
    "            if source[cursor] == source[cursor+1]:\n",
    "                return False\n",
    "            else:\n",
    "                return True\n",
    "        except IndexError:\n",
    "            return None\n",
    "    def pushDominoes(self, dominoes: str):\n",
    "        finalString = ''\n",
    "        dominoes += '  '\n",
    "        stringLength = len(dominoes)\n",
    "        finalState = list(dominoes)\n",
    "\n",
    "        for i in range(len(dominoes)):\n",
    "            print(i, dominoes[i])\n",
    "        \n",
    "        print('\\n\\n')\n",
    "\n",
    "        for pieceindex in range(stringLength):\n",
    "            element = dominoes[pieceindex]\n",
    "            if element != ' ':\n",
    "                print('The element {', element,'} was passed here')\n",
    "                if pieceindex == 0:\n",
    "                    if element == '.' and dominoes[1] == 'L':\n",
    "                        finalState[0] = dominoes[1]\n",
    "                elif pieceindex == stringLength-3 and dominoes[-4] == 'R':\n",
    "                    print('NOTE:',dominoes[-4])\n",
    "                    if element == '.':\n",
    "                        finalState[-1] = dominoes[-2]\n",
    "\n",
    "                else:\n",
    "                    # print('here')\n",
    "                    if element == 'L':\n",
    "                        if dominoes[pieceindex-2] != 'R':\n",
    "                            finalState[pieceindex-1] = \"L\"\n",
    "                        else:\n",
    "                            finalState[pieceindex-1] = \".\"\n",
    "\n",
    "                    elif element == 'R':\n",
    "                        if dominoes[pieceindex+2] != 'L':\n",
    "                            finalState[pieceindex+1] = 'R' \n",
    "                        else:\n",
    "                            finalState[pieceindex+1] = \".\"\n",
    "            # print(element, 'element passed')\n",
    "\n",
    "        finalString = finalString.join(finalState).strip()\n",
    "        print(finalString)\n",
    "        return finalString\n",
    "Solution.pushDominoes(Solution ,\"LR\")\n",
    "\n",
    "\n"
   ]
  },
  {
   "cell_type": "code",
   "execution_count": 19,
   "metadata": {},
   "outputs": [
    {
     "name": "stdout",
     "output_type": "stream",
     "text": [
      "8\n"
     ]
    }
   ],
   "source": [
    "do = '.L.R..  '\n",
    "doL = list(do)\n",
    "lendo = len(do)\n",
    "print(lendo)"
   ]
  },
  {
   "cell_type": "code",
   "execution_count": 20,
   "metadata": {},
   "outputs": [
    {
     "name": "stdout",
     "output_type": "stream",
     "text": [
      "1 1\n"
     ]
    }
   ],
   "source": [
    "RCount = 0\n",
    "LCount = 0\n",
    "for i in range(len(do)):\n",
    "    if do[i] != ' ':\n",
    "        if do[i] == '.':\n",
    "            if do[i+1] == 'L':\n",
    "                LCount += 1\n",
    "            elif do[i-1] == 'R':\n",
    "                RCount += 1\n",
    "print(LCount, RCount)\n"
   ]
  }
 ],
 "metadata": {
  "kernelspec": {
   "display_name": "Python 3.10.5 64-bit",
   "language": "python",
   "name": "python3"
  },
  "language_info": {
   "codemirror_mode": {
    "name": "ipython",
    "version": 3
   },
   "file_extension": ".py",
   "mimetype": "text/x-python",
   "name": "python",
   "nbconvert_exporter": "python",
   "pygments_lexer": "ipython3",
   "version": "3.10.5"
  },
  "orig_nbformat": 4,
  "vscode": {
   "interpreter": {
    "hash": "73261e48852d51a8619d3559d80afe0391a56a50e480a00694bcdf352813ba28"
   }
  }
 },
 "nbformat": 4,
 "nbformat_minor": 2
}
