{
 "cells": [
  {
   "cell_type": "code",
   "execution_count": 2,
   "metadata": {},
   "outputs": [],
   "source": [
    "from collections import deque"
   ]
  },
  {
   "cell_type": "code",
   "execution_count": 10,
   "metadata": {},
   "outputs": [],
   "source": [
    "class Solution:\n",
    "    def find(self,arr,k,x):\n",
    "        res = deque(arr[:k])\n",
    "\n",
    "        for i in range(k, len(arr)):\n",
    "            print(i, arr, res)\n",
    "            print(x,arr[i], res[0])\n",
    "            print(abs(x-arr[i]))\n",
    "            print(abs(x-res[0]))\n",
    "            print('\\n\\n')"
   ]
  },
  {
   "cell_type": "code",
   "execution_count": 11,
   "metadata": {},
   "outputs": [
    {
     "name": "stdout",
     "output_type": "stream",
     "text": [
      "5 [1, 2, 3, 4, 5, 6, 7, 8, 9] deque([1, 2, 3, 4, 5])\n",
      "4 6 1\n",
      "2\n",
      "3\n",
      "\n",
      "\n",
      "\n",
      "6 [1, 2, 3, 4, 5, 6, 7, 8, 9] deque([1, 2, 3, 4, 5])\n",
      "4 7 1\n",
      "3\n",
      "3\n",
      "\n",
      "\n",
      "\n",
      "7 [1, 2, 3, 4, 5, 6, 7, 8, 9] deque([1, 2, 3, 4, 5])\n",
      "4 8 1\n",
      "4\n",
      "3\n",
      "\n",
      "\n",
      "\n",
      "8 [1, 2, 3, 4, 5, 6, 7, 8, 9] deque([1, 2, 3, 4, 5])\n",
      "4 9 1\n",
      "5\n",
      "3\n",
      "\n",
      "\n",
      "\n"
     ]
    }
   ],
   "source": [
    "finalClass = Solution()\n",
    "finalClass.find()"
   ]
  }
 ],
 "metadata": {
  "kernelspec": {
   "display_name": "Python 3.10.5 64-bit",
   "language": "python",
   "name": "python3"
  },
  "language_info": {
   "codemirror_mode": {
    "name": "ipython",
    "version": 3
   },
   "file_extension": ".py",
   "mimetype": "text/x-python",
   "name": "python",
   "nbconvert_exporter": "python",
   "pygments_lexer": "ipython3",
   "version": "3.10.5"
  },
  "orig_nbformat": 4,
  "vscode": {
   "interpreter": {
    "hash": "73261e48852d51a8619d3559d80afe0391a56a50e480a00694bcdf352813ba28"
   }
  }
 },
 "nbformat": 4,
 "nbformat_minor": 2
}
